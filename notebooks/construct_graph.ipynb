{
 "cells": [
  {
   "cell_type": "code",
   "execution_count": 1,
   "id": "60ae8e28-96da-4e68-8418-8cc66e0901c7",
   "metadata": {},
   "outputs": [],
   "source": [
    "import pandas as pd\n",
    "import numpy as np\n",
    "import networkx as nx\n",
    "import seaborn as sns\n",
    "from graph_curvature.curvature import GraphCurvature\n",
    "from os.path import exists"
   ]
  },
  {
   "cell_type": "markdown",
   "id": "3b5c65f6-d5aa-4dbc-9696-af63b8eb93c9",
   "metadata": {},
   "source": [
    "## Load Data"
   ]
  },
  {
   "cell_type": "code",
   "execution_count": 14,
   "id": "5c76e14e-b7ff-4ab7-bf9b-7441f4deb796",
   "metadata": {},
   "outputs": [],
   "source": [
    "graph_name = 'medium_conf_G.pkl'\n",
    "scalar_curvatures_name = 'scalar_curvatures_C800_med_conf.csv'"
   ]
  },
  {
   "cell_type": "code",
   "execution_count": null,
   "id": "5bb47208-a604-467a-85a5-9aa732d322e4",
   "metadata": {},
   "outputs": [],
   "source": [
    "if not exists(graph_name):\n",
    "    genes_ja = pd.read_csv('run1/C800_log2normcounts.csv')\n",
    "    names = pd.read_csv('9606.protein.aliases.v11.5.txt',sep='\\t')\n",
    "    c_genes = pd.DataFrame(genes_ja['gene'].drop_duplicates())\n",
    "\n",
    "    c_genes['convs'] = c_genes['gene'].apply(lambda x: names[names['alias']==x]['#string_protein_id'].tolist()[0] if x in names['alias'].tolist() else np.nan)\n",
    "\n",
    "    c_genes.dropna(inplace=True)\n",
    "\n",
    "    links = pd.read_csv('9606.protein.links.v11.5.txt',sep=' ')\n",
    "    # low confidence: 150\n",
    "    # medium confidence: 400\n",
    "    # high confidence: 700\n",
    "    # highest confidence: 900\n",
    "    links = links[links['combined_score']>400]\n",
    "    string_to_gene = c_genes.set_index('convs').to_dict()['gene']\n",
    "    links['gene1'] = links['protein1'].apply(lambda x: string_to_gene[x] if x in string_to_gene.keys() else np.nan)\n",
    "    links['gene2'] = links['protein2'].apply(lambda x: string_to_gene[x] if x in string_to_gene.keys() else np.nan)\n",
    "    links.dropna(inplace=True)\n",
    "    links = links[['gene1','gene2','combined_score']].sort_values(by='combined_score').drop_duplicates(subset=['gene1','gene2'], keep='last')\n",
    "    \n",
    "    # Construct list of tuples to define edges\n",
    "    #links = links[links['combined_score']>300]\n",
    "    edges = [(_[0],_[1],{'weight':_[2]/1000.0}) for _ in list(zip(links['gene1'].tolist(),links['gene2'].tolist(),links['combined_score']))]\n",
    "\n",
    "    # Construct NetworkX graph\n",
    "    G=nx.Graph()\n",
    "\n",
    "    # Set nodes\n",
    "    G.add_nodes_from(c_genes['gene'].tolist())\n",
    "    #nx.set_node_attributes(G,node_attrs,\"weight\")\n",
    "\n",
    "    # Define edges\n",
    "    G.add_edges_from(edges)\n",
    "\n",
    "    # Pull out largest connected component\n",
    "    G_cc = [G.subgraph(c).copy() for c in nx.connected_components(G) if c == max(nx.connected_components(G), key=len)][0]\n",
    "    nx.write_gpickle(G_cc, graph_name)\n",
    "else:\n",
    "    G_cc = nx.read_gpickle(graph_name)"
   ]
  },
  {
   "cell_type": "markdown",
   "id": "8d50bc26-e3f4-45df-816d-4781dd72a10c",
   "metadata": {
    "tags": []
   },
   "source": [
    "## Compute Graph Curvature"
   ]
  },
  {
   "cell_type": "code",
   "execution_count": 4,
   "id": "cbc83ff1-813a-4ce6-9983-ef883ebc743e",
   "metadata": {},
   "outputs": [],
   "source": [
    "if not exists(scalar_curvatures_name):\n",
    "    orc = GraphCurvature(G_cc, n_procs=24)\n",
    "    orc.compute()\n",
    "    orc.scalar_curvatures.to_csv(scalar_curvatures_name)\n",
    "else:\n",
    "    scalar_curvatures = pd.read_csv(scalar_curvatures_name)\n",
    "    orc = GraphCurvature.from_save(G_cc, scalar_curvatures)"
   ]
  },
  {
   "cell_type": "code",
   "execution_count": null,
   "id": "454a95fb-769c-4b8b-9962-5b9184071cdb",
   "metadata": {},
   "outputs": [],
   "source": []
  }
 ],
 "metadata": {
  "kernelspec": {
   "display_name": "gcurve",
   "language": "python",
   "name": "gcurve"
  },
  "language_info": {
   "codemirror_mode": {
    "name": "ipython",
    "version": 3
   },
   "file_extension": ".py",
   "mimetype": "text/x-python",
   "name": "python",
   "nbconvert_exporter": "python",
   "pygments_lexer": "ipython3",
   "version": "3.10.4"
  }
 },
 "nbformat": 4,
 "nbformat_minor": 5
}
