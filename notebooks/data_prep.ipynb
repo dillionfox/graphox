{
 "cells": [
  {
   "cell_type": "code",
   "execution_count": 29,
   "id": "90c96389-302b-4b05-a8b4-edefae77149f",
   "metadata": {},
   "outputs": [],
   "source": [
    "import pandas as pd\n",
    "import numpy as np"
   ]
  },
  {
   "cell_type": "markdown",
   "id": "b6d548a3-8962-4b16-a4c8-a484d9d1d838",
   "metadata": {},
   "source": [
    "# Pull in all data"
   ]
  },
  {
   "cell_type": "code",
   "execution_count": 47,
   "id": "6b0e6de6-9983-4ff1-9e5f-c840acf805db",
   "metadata": {},
   "outputs": [],
   "source": [
    "# Renal cell cancer (diff types: HISTOLOGY_SARCOMATOID column)\n",
    "anno_df = pd.read_csv('/Users/dfox/Dropbox (Agenus)/_Data/External/bulkRNA/IMmotion151_clinical_anon_20201106.csv',header=3)\n",
    "anno_df['RNASEQ_SAMPLE_ID'] = anno_df['RNASEQ_SAMPLE_ID'].apply(lambda x: np.nan if type(x) is float else x)\n",
    "anno_df = anno_df[['PATIENT_ID','RNASEQ_SAMPLE_ID','PRIMARY_VS_METASTATIC','TMB','PDL1_IHC','ARM','OBJECTIVE_RESPONSE','SEX','HISTOLOGY_SARCOMATOID']].dropna(\n",
    "    subset=['PATIENT_ID','RNASEQ_SAMPLE_ID','OBJECTIVE_RESPONSE'])"
   ]
  },
  {
   "cell_type": "code",
   "execution_count": 48,
   "id": "04fbc970-4ec0-47f5-9666-aad609e4c3fe",
   "metadata": {},
   "outputs": [],
   "source": [
    "expr_df = pd.read_csv('/Users/dfox/Dropbox (Agenus)/_Data/External/bulkRNA/IMmotion151.expression.data.TPM.anon.20201106.csv')\n",
    "expr_df.rename(columns={'Unnamed: 0':'EntrezID'},inplace=True)\n",
    "expr_df.set_index('EntrezID',inplace=True)\n",
    "gene_info = expr_df[expr_df.columns[:2]]\n",
    "tpm_df = expr_df[expr_df.columns[2:]]"
   ]
  },
  {
   "cell_type": "code",
   "execution_count": 99,
   "id": "7dfad33a-9ad7-4d4c-8df9-d609da4fdc95",
   "metadata": {},
   "outputs": [],
   "source": [
    "anno_df.to_csv('data/full_data_anno.csv')\n",
    "expr_df.to_csv('data/full_data_expr.csv')\n",
    "tpm_df.to_csv('data/full_data_tpm.csv')"
   ]
  },
  {
   "cell_type": "markdown",
   "id": "4df3d672-23b1-48ca-8599-69b280cadd44",
   "metadata": {},
   "source": [
    "# Filter based on STRING matches"
   ]
  },
  {
   "cell_type": "code",
   "execution_count": 71,
   "id": "239ba2a3-5cfc-4fd9-b1bd-305ea68522bf",
   "metadata": {},
   "outputs": [],
   "source": [
    "import networkx as nx"
   ]
  },
  {
   "cell_type": "code",
   "execution_count": 100,
   "id": "b08b733e-7bf1-4e5b-8563-21276d7732e6",
   "metadata": {},
   "outputs": [],
   "source": [
    "G_med = nx.read_gpickle('/Users/dfox/data/graph_curv/medium_conf_G.pkl')\n",
    "G_genes = list(G_med.nodes)\n",
    "expr_df_G = expr_df[expr_df['symbol'].apply(lambda x: x in G_genes)]\n",
    "tpm_df_G = expr_df_G[expr_df_G.columns[2:]]"
   ]
  },
  {
   "cell_type": "code",
   "execution_count": 101,
   "id": "b3836f51-d6a8-458d-818f-1c6cf5b7a909",
   "metadata": {},
   "outputs": [],
   "source": [
    "expr_df_G.to_csv('data/full_data_expr_G.csv')\n",
    "tpm_df_G.to_csv('data/full_data_tpm_G.csv')"
   ]
  },
  {
   "cell_type": "code",
   "execution_count": null,
   "id": "3b8fd7e6-fbf7-4c91-a23e-9cc89d8aa3fb",
   "metadata": {},
   "outputs": [],
   "source": []
  }
 ],
 "metadata": {
  "kernelspec": {
   "display_name": "Python [conda env:gcnn] *",
   "language": "python",
   "name": "conda-env-gcnn-py"
  },
  "language_info": {
   "codemirror_mode": {
    "name": "ipython",
    "version": 3
   },
   "file_extension": ".py",
   "mimetype": "text/x-python",
   "name": "python",
   "nbconvert_exporter": "python",
   "pygments_lexer": "ipython3",
   "version": "3.10.5"
  }
 },
 "nbformat": 4,
 "nbformat_minor": 5
}
